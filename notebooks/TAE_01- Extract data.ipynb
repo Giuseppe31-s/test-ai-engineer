{
 "cells": [
  {
   "cell_type": "code",
   "execution_count": 1,
   "id": "112a9e0e",
   "metadata": {},
   "outputs": [
    {
     "name": "stderr",
     "output_type": "stream",
     "text": [
      "/home/giuseppe/projetos-pessoais/test-ai-engineer/.venv/lib/python3.11/site-packages/tqdm/auto.py:21: TqdmWarning: IProgress not found. Please update jupyter and ipywidgets. See https://ipywidgets.readthedocs.io/en/stable/user_install.html\n",
      "  from .autonotebook import tqdm as notebook_tqdm\n"
     ]
    }
   ],
   "source": [
    "from fastembed.sparse.bm25 import Bm25\n",
    "from fastembed import TextEmbedding\n",
    "import pandas as pd\n",
    "from docling.document_converter import DocumentConverter\n",
    "from io import StringIO\n",
    "import os\n",
    "from dotenv import load_dotenv\n",
    "from openai import OpenAI\n",
    "\n",
    "load_dotenv(override=True)\n",
    "\n",
    "os.chdir(\"..\")"
   ]
  },
  {
   "cell_type": "code",
   "execution_count": 2,
   "id": "60eb462a",
   "metadata": {},
   "outputs": [],
   "source": [
    "from src.data.preprocess import (\n",
    "    extract_technic_specification,\n",
    "    extract_html_from_pdf,\n",
    "    tables_from_html,\n",
    "    get_description_from_df,\n",
    ")\n",
    "import json"
   ]
  },
  {
   "cell_type": "code",
   "execution_count": 3,
   "id": "95838e5b",
   "metadata": {},
   "outputs": [],
   "source": [
    "converter = DocumentConverter()\n"
   ]
  },
  {
   "cell_type": "code",
   "execution_count": 4,
   "id": "cc06a471",
   "metadata": {},
   "outputs": [],
   "source": [
    "source = \"../data/silver/FEC 2-2025 Scheda tecnica.pdf\""
   ]
  },
  {
   "cell_type": "code",
   "execution_count": 4,
   "id": "13687507",
   "metadata": {},
   "outputs": [],
   "source": [
    "doc = converter.convert(source).document\n"
   ]
  },
  {
   "cell_type": "code",
   "execution_count": 5,
   "id": "d28f0112",
   "metadata": {},
   "outputs": [],
   "source": [
    "# from IPython.core.display import  HTML\n",
    "# display(HTML(doc.export_to_html()))"
   ]
  },
  {
   "cell_type": "code",
   "execution_count": 6,
   "id": "7c73892d",
   "metadata": {},
   "outputs": [],
   "source": [
    "test = pd.read_html(StringIO(doc.export_to_html()))"
   ]
  },
  {
   "cell_type": "code",
   "execution_count": 7,
   "id": "6fe70a42",
   "metadata": {},
   "outputs": [],
   "source": [
    "df_technic_specification = pd.DataFrame()\n",
    "for table in test:\n",
    "    df_technic_specification = pd.concat([df_technic_specification, table], ignore_index=True)\n"
   ]
  },
  {
   "cell_type": "code",
   "execution_count": 8,
   "id": "5285c569",
   "metadata": {},
   "outputs": [],
   "source": [
    "df_technic_specification = df_technic_specification.T"
   ]
  },
  {
   "cell_type": "code",
   "execution_count": 9,
   "id": "ad07260d",
   "metadata": {},
   "outputs": [],
   "source": [
    "df_technic_specification.columns = df_technic_specification.iloc[0]\n",
    "df_technic_specification = df_technic_specification[1:]"
   ]
  },
  {
   "cell_type": "code",
   "execution_count": 10,
   "id": "eb5088e2",
   "metadata": {},
   "outputs": [
    {
     "data": {
      "text/plain": [
       "\"Servizio di hosting, assistenza tecnica e manutenzione ordinaria, help desk e manutenzione evolutiva della piattaforma tecnologica Caronte. La stessa è stata sviluppata per la tenuta e la gestione del Registro Ufficiale degli Operatori Professionali (RUOP), di cui al Regolamento (UE) 2016/2031 e al D.lgs. 19/2021. Rappresenta lo strumento obbligatorio sia per gli operatori professionali che chiedono la registrazione al RUOP per lo svolgimento delle attività di vivaista, di commercio all'ingrosso, di importazione e di esportazione di vegetali, prodotti vegetali e altri oggetti, di autorizzazione all'uso del passaporto delle piante, di richiesta di emissione dei certificati fitosanitari per l'esportazione verso i Paesi terzi e sia per gli ispettori fitosanitari del Servizio fitosanitario regionale per la gestione dei controlli ufficiali obbligatori presso gli operatori professionali che svolgono l 'attività di vivaisti, il rilascio dei certificati fitosanitari di esportazione, l'adozione di misure ufficiali e l'irrogazione delle sanzioni amministrative. L'applicativo consente inoltre lo scarico dei tracciati record delle attività svolte per l'invio dei dati al Servizio fitosanitario centrale presso il MASAF. La gara riguarda la gestione dei servizi di hosting, di assistenza tecnica, di manutenzione ordinaria e del servizio di help desk; comprende inoltre un'attività di manutenzione evolutiva per adeguare i tracciati record da inviare al Servizio fitosanitario centrale presso il MASAF, sulla base delle nuove disposizioni stabilite dallo stesso Servizio e per migliorare e implementare alcune funzionalità dell'applicativo Caronte.\""
      ]
     },
     "execution_count": 10,
     "metadata": {},
     "output_type": "execute_result"
    }
   ],
   "source": [
    "df_technic_specification[\"Oggetto e descrizione del servizio\"].values[0]"
   ]
  },
  {
   "cell_type": "code",
   "execution_count": 11,
   "id": "1767dfc3",
   "metadata": {},
   "outputs": [],
   "source": [
    "df_technic_specification.columns = df_technic_specification.columns.str.lower()"
   ]
  },
  {
   "cell_type": "code",
   "execution_count": 15,
   "id": "31687b5f",
   "metadata": {},
   "outputs": [],
   "source": [
    "columns_with_service = df_technic_specification.columns[df_technic_specification.columns.str.contains(\"servizio\")]"
   ]
  },
  {
   "cell_type": "code",
   "execution_count": 25,
   "id": "f21aa411",
   "metadata": {},
   "outputs": [],
   "source": [
    "description = \"\"\n",
    "for text in df_technic_specification[columns_with_service].values:\n",
    "    \n",
    "    description += text[0] + \"\\n\""
   ]
  },
  {
   "cell_type": "code",
   "execution_count": 27,
   "id": "276e32e7",
   "metadata": {},
   "outputs": [
    {
     "name": "stdout",
     "output_type": "stream",
     "text": [
      "Servizio di hosting, assistenza tecnica e manutenzione ordinaria, help desk e manutenzione evolutiva della piattaforma tecnologica Caronte. La stessa è stata sviluppata per la tenuta e la gestione del Registro Ufficiale degli Operatori Professionali (RUOP), di cui al Regolamento (UE) 2016/2031 e al D.lgs. 19/2021. Rappresenta lo strumento obbligatorio sia per gli operatori professionali che chiedono la registrazione al RUOP per lo svolgimento delle attività di vivaista, di commercio all'ingrosso, di importazione e di esportazione di vegetali, prodotti vegetali e altri oggetti, di autorizzazione all'uso del passaporto delle piante, di richiesta di emissione dei certificati fitosanitari per l'esportazione verso i Paesi terzi e sia per gli ispettori fitosanitari del Servizio fitosanitario regionale per la gestione dei controlli ufficiali obbligatori presso gli operatori professionali che svolgono l 'attività di vivaisti, il rilascio dei certificati fitosanitari di esportazione, l'adozione di misure ufficiali e l'irrogazione delle sanzioni amministrative. L'applicativo consente inoltre lo scarico dei tracciati record delle attività svolte per l'invio dei dati al Servizio fitosanitario centrale presso il MASAF. La gara riguarda la gestione dei servizi di hosting, di assistenza tecnica, di manutenzione ordinaria e del servizio di help desk; comprende inoltre un'attività di manutenzione evolutiva per adeguare i tracciati record da inviare al Servizio fitosanitario centrale presso il MASAF, sulla base delle nuove disposizioni stabilite dallo stesso Servizio e per migliorare e implementare alcune funzionalità dell'applicativo Caronte.\n",
      "\n"
     ]
    }
   ],
   "source": [
    "print(description)"
   ]
  },
  {
   "cell_type": "code",
   "execution_count": null,
   "id": "819f2442",
   "metadata": {},
   "outputs": [],
   "source": [
    "html = extract_html_from_pdf(\"./data/silver/scheda tecnica.pdf\")"
   ]
  },
  {
   "cell_type": "code",
   "execution_count": null,
   "id": "539c8ea7",
   "metadata": {},
   "outputs": [],
   "source": [
    "openai = OpenAI()\n",
    "response = openai.chat.completions.create(\n",
    "    model=\"gpt-4o-mini\",\n",
    "    messages=messages,\n",
    ")\n",
    "question = response.choices[0].message.content\n",
    "print(question)"
   ]
  },
  {
   "cell_type": "code",
   "execution_count": null,
   "id": "bb7dbb2c",
   "metadata": {},
   "outputs": [],
   "source": [
    "def assistant_extractor(html_content: str, provider: str = \"openai\") -> str:\n",
    "    \"\"\"Extracts the description of a service from HTML content using an AI assistant.\"\"\"\n",
    "    system_prompt = (\n",
    "        \"You are an expert in extracting information from technical specifications. \"\n",
    "        \"Your task is to extract the description of the service from the provided HTML content.\"\n",
    "        \"Don't invent information, just extract the relevant details.\"\n",
    "        \"Use the following HTML content to extract the description of the service:\"\n",
    "        \"\"\n",
    "    )\n",
    "    messages = [{\"role\": \"system\", \"content\": system_prompt}] + [\n",
    "        {\"role\": \"user\", \"content\": html_content}\n",
    "    ]\n",
    "\n",
    "    if provider == \"openai\":\n",
    "        openai = OpenAI()\n",
    "        model = \"gpt-4o\"\n",
    "    elif provider == \"together\":\n",
    "        openai = OpenAI(\n",
    "            api_key=os.getenv(\"TOGETHER_API_KEY\"),\n",
    "            base_url=os.getenv(\"TOGETHER_BASE_URL\"),\n",
    "        )\n",
    "        model = \"meta-llama/Llama-3.3-70B-Instruct-Turbo\"\n",
    "    else:\n",
    "        raise ValueError(\"Provider must be 'openai' or 'together'.\")\n",
    "\n",
    "    response = openai.chat.completions.create(\n",
    "        model=model,\n",
    "        messages=messages,\n",
    "    )\n",
    "    answer = response.choices[0].message.content\n",
    "    return answer\n"
   ]
  },
  {
   "cell_type": "code",
   "execution_count": 5,
   "id": "42e96182",
   "metadata": {},
   "outputs": [],
   "source": [
    "html = extract_html_from_pdf(\"./data/silver/Scheda tecnica gara Gestione Tremaglia.pdf\")"
   ]
  },
  {
   "cell_type": "code",
   "execution_count": 7,
   "id": "af6c1e1c",
   "metadata": {},
   "outputs": [
    {
     "data": {
      "text/html": [
       "<!DOCTYPE html>\n",
       "<html>\n",
       "<head>\n",
       "<meta charset=\"UTF-8\">\n",
       "<title>Scheda tecnica gara Gestione Tremaglia</title>\n",
       "<meta name=\"generator\" content=\"Docling HTML Serializer\">\n",
       "<style>\n",
       "    html {\n",
       "        background-color: #f5f5f5;\n",
       "        font-family: Arial, sans-serif;\n",
       "        line-height: 1.6;\n",
       "    }\n",
       "    body {\n",
       "        max-width: 800px;\n",
       "        margin: 0 auto;\n",
       "        padding: 2rem;\n",
       "        background-color: white;\n",
       "        box-shadow: 0 0 10px rgba(0,0,0,0.1);\n",
       "    }\n",
       "    h1, h2, h3, h4, h5, h6 {\n",
       "        color: #333;\n",
       "        margin-top: 1.5em;\n",
       "        margin-bottom: 0.5em;\n",
       "    }\n",
       "    h1 {\n",
       "        font-size: 2em;\n",
       "        border-bottom: 1px solid #eee;\n",
       "        padding-bottom: 0.3em;\n",
       "    }\n",
       "    table {\n",
       "        border-collapse: collapse;\n",
       "        margin: 1em 0;\n",
       "        width: 100%;\n",
       "    }\n",
       "    th, td {\n",
       "        border: 1px solid #ddd;\n",
       "        padding: 8px;\n",
       "        text-align: left;\n",
       "    }\n",
       "    th {\n",
       "        background-color: #f2f2f2;\n",
       "        font-weight: bold;\n",
       "    }\n",
       "    figure {\n",
       "        margin: 1.5em 0;\n",
       "        text-align: center;\n",
       "    }\n",
       "    figcaption {\n",
       "        color: #666;\n",
       "        font-style: italic;\n",
       "        margin-top: 0.5em;\n",
       "    }\n",
       "    img {\n",
       "        max-width: 100%;\n",
       "        height: auto;\n",
       "    }\n",
       "    pre {\n",
       "        background-color: #f6f8fa;\n",
       "        border-radius: 3px;\n",
       "        padding: 1em;\n",
       "        overflow: auto;\n",
       "    }\n",
       "    code {\n",
       "        font-family: monospace;\n",
       "        background-color: #f6f8fa;\n",
       "        padding: 0.2em 0.4em;\n",
       "        border-radius: 3px;\n",
       "    }\n",
       "    pre code {\n",
       "        background-color: transparent;\n",
       "        padding: 0;\n",
       "    }\n",
       "    .formula {\n",
       "        text-align: center;\n",
       "        padding: 0.5em;\n",
       "        margin: 1em 0;\n",
       "        background-color: #f9f9f9;\n",
       "    }\n",
       "    .formula-not-decoded {\n",
       "        text-align: center;\n",
       "        padding: 0.5em;\n",
       "        margin: 1em 0;\n",
       "        background: repeating-linear-gradient(\n",
       "            45deg,\n",
       "            #f0f0f0,\n",
       "            #f0f0f0 10px,\n",
       "            #f9f9f9 10px,\n",
       "            #f9f9f9 20px\n",
       "        );\n",
       "    }\n",
       "    .page-break {\n",
       "        page-break-after: always;\n",
       "        border-top: 1px dashed #ccc;\n",
       "        margin: 2em 0;\n",
       "    }\n",
       "    .key-value-region {\n",
       "        background-color: #f9f9f9;\n",
       "        padding: 1em;\n",
       "        border-radius: 4px;\n",
       "        margin: 1em 0;\n",
       "    }\n",
       "    .key-value-region dt {\n",
       "        font-weight: bold;\n",
       "    }\n",
       "    .key-value-region dd {\n",
       "        margin-left: 1em;\n",
       "        margin-bottom: 0.5em;\n",
       "    }\n",
       "    .form-container {\n",
       "        border: 1px solid #ddd;\n",
       "        padding: 1em;\n",
       "        border-radius: 4px;\n",
       "        margin: 1em 0;\n",
       "    }\n",
       "    .form-item {\n",
       "        margin-bottom: 0.5em;\n",
       "    }\n",
       "    .image-classification {\n",
       "        font-size: 0.9em;\n",
       "        color: #666;\n",
       "        margin-top: 0.5em;\n",
       "    }\n",
       "</style>\n",
       "</head>\n",
       "<body>\n",
       "<div class='page'>\n",
       "<p>SCHEDA: gestione della Biblioteca di Regione Lombardia 'Marzio Tremaglia' .</p>\n",
       "<h2>Oggetto e descrizione del servizio/fornitura</h2>\n",
       "<p>Affidamento  del  servizio  per  la  gestione  della  Biblioteca  di  Regione  Lombardia 'Marzio Tremaglia' -Centro di documentazione regionale.</p>\n",
       "<h2>PREMESSA</h2>\n",
       "<p>La  Biblioteca  'Marzio  Tremaglia' -  Centro  di  documentazione  regionale  (di seguito: 'Biblioteca Tremaglia') è un'importante struttura documentaria specializzata  in  biblioteconomia,  bibliografia,  archivistica,  museologia,  storia delle biblioteche, del libro, della stampa e dell'editoria. Il suo obiettivo è quello di costituire un punto di riferimento per gli operatori del settore MAB (Musei, Archivi e Biblioteche) in termini di informazione e consulenza bibliografica. Il  patrimonio  della  Biblioteca  Tremaglia  attualmente  è  costituito  da  materiali stimati in circa 800 metri lineari, per una quantità di circa 19.000 opere di cui:</p>\n",
       "<ul>\n",
       "<li>1. volumi monografici moderni: circa n. 15.780 volumi catalogati in SBN;</li>\n",
       "<li>2. volumi monografici antichi: circa n. 50;</li>\n",
       "<li>3. periodici, compresi anche singoli fascicoli: circa n. 500 catalogati in SBN;</li>\n",
       "<li>4. monografie e opuscoli: circa 5.000, non catalogati e non presenti in SBN.</li>\n",
       "</ul>\n",
       "<p>La  collocazione  dei  materiali  negli  spazi  fisici  è  suddivisa  come  segue:  armadi chiusi e scaffali aperti situati al primo piano di Palazzo Lombardia sito in Piazza Città di Lombardia, n. 1 a Milano (il patrimonio bibliografico è collocato in parte secondo la Classificazione Decimale Dewey e in parte secondo altri criteri). La biblioteca  comprende  anche  il  patrimonio  della  Biblioteca  dell'Archivio  di Etnografia  e  Storia  Sociale -AESS  e  della  Biblioteca  giuridica  della  Giunta regionale della Lombardia.</p>\n",
       "<p>La registrazione dei materiali e la loro catalogazione è organizzata come segue:</p>\n",
       "<ul>\n",
       "<li>1. software SBNCloud nell'ambito del Polo SBN Lombardia 1;</li>\n",
       "<li>2. il  trattamento  dei  documenti  è  effettuato  seguendo  la  prassi  delle scienze biblioteconomiche.</li>\n",
       "</ul>\n",
       "<p>Le procedure tecniche di catalogazione, originale o derivata, sono interamente informatizzate e comprendono: descrizione bibliografica, accessi e  intestazioni per autori ed enti basati sulle norme REICAT (Regole Italiane di Catalogazione) e relative  alla  catalogazione  SBN,  indicizzazione  basata  sul  Nuovo  soggettario  e CDD (Classificazione decimale Dewey).</p>\n",
       "<p>Attualmente la biblioteca è aperta al pubblico per la consultazione esclusivamente su appuntamento, per due mezze giornate la settimana. Gli  utenti hanno la possibilità di richiedere la consultazione in loco di specifici volumi dal catalogo della biblioteca e riprodurli parzialmente, con le attrezzature disponibili, nei limiti di legge. A fronte di richieste puntuali e dal numero di pagine limitato, la biblioteca invia tramite mail agli utenti la riproduzione delle parti di volume richieste. Non è consentito il prestito.</p>\n",
       "<p>La  biblioteca  dispone  anche  di  uno  spazio  dedicato  ad  eventi  istituzionali  e momenti formativi dedicati al mondo MAB, organizzati da Regione Lombardia o da altri partner.</p>\n",
       "<h2>DESCRIZIONE DEL SERVIZIO</h2>\n",
       "<p>Costituiscono oggetto dell'affidamento i seguenti servizi:</p>\n",
       "<ul>\n",
       "<li>1. GESTIONE DEGLI SPAZI: Tutte le attività che permettono l'utilizzo degli spazi della biblioteca da parte degli utenti, anche in occasione di eventi, e l'ordinaria manutenzione dei locali e delle attrezzature in dotazione . La manutenzione straordinaria di locali e apparecchiature in dotazione, oltre al servizio di pulizia generale, restano in capo a Regione Lombardia.</li>\n",
       "<li>2. SERVIZI  AL  PUBBLICO :  Cura  di  tutti  i  servizi  che  la  biblioteca  offre  al pubblico descritti in premessa. I servizi legati al patrimonio librario sono garantiti anche per i fondi custoditi presso la Biblioteca Tremaglia da altri istituti, a seguito di deposito o comodato d'uso gratuito. Le  fasce  orarie  di  servizio  dedicate  al  pubblico  saranno  incrementate rispetto alle attuali descritte in premessa, secondo una quantificazione da pianificare nel corso dell'esecuzione del contratto .</li>\n",
       "<li>3. GESTIONE DEL PATRIMONIO DOCUMENTARIO : Tutte le attività necessarie  alla  gestione  del  patrimonio,  comprese:  la  movimentazione dei  documenti  oggetto  di  consultazione,  la  ricollocazione  e  verifica periodica della corretta collocazione del patrimonio bibliografico, l' inventariazione  e  catalogazione  dei  materiali  di  nuova  acquisizione (monografie  e  periodici)  e  del  materiale  eventualmente  non  ancora catalogato in SBNCloud, verifica e gestione dei fascicoli delle risorse in abbonamento correnti, revisione periodica inventariale in collaborazione con la Struttura Musei, Archivi Biblioteche e Servizi digitali per la cultura, attuazione di eventuali procedure di scarto, adeguamento delle informazioni registrate nel catalogo OPAC (Online Public Access Catalogue) SBN, previa comunicazione ai responsabili regionali; collocazione  secondo  Classificazione  Dewey  del  materiale,  cura  di  un piano  di  acquisto  di  risorse  sia  cartacee  che  digitali  da  presentare  al competente ufficio regionale.</li>\n",
       "<li>4. MANUTENZIONE DATABASE SBN DEL POLO LO1: attività  di  verifica  e correzione  centralizzate  del  flusso  dati  verso  SBN  delle  biblioteche  del polo  Lombardia  01.  In  particolare,  attraverso  SBNCloud,  è  richiesta  la verifica del report degli allineamenti dell'intero polo , la gestione/correzione  da  Interfaccia  diretta  (applicativo ' Indice ' ) dei record  che  presentano  errori  che  ne  impediscono  l'allineamento  e  la segnalazione all' Help-desk  regionale  dei  casi  che  non  è  stato  possibile risolvere.</li>\n",
       "</ul>\n",
       "<p>I  servizi  comporteranno  l'utilizzo  di strumenti  informatici  propri  del  Fornitore, principalmente  per  l'accesso  all'applicativo  online  di gestione  della  biblioteca (SBNCloud).</p>\n",
       "<p>Per lo svolgimento delle attività oggetto del contratto il Fornitore dovrà designare almeno un Responsabile bibliotecario iscritto nell'elenco nazionale dei bibliotecari tenuto dal Ministero della Cultura (Professionisti dei Beni Culturali).</p>\n",
       "<table><tbody><tr><td></td><td>Dovrà inoltre essere garantita la presenza di una figura in possesso di esperienza documentabile nella catalogazione con il sistema SBN, di cui dovrà conoscere protocollo, procedure di allineamento e regole di catalogazione.</td></tr><tr><td>Sedi di esecuzione del servizio/fornitura</td><td>Sede di Regione Lombardia (Palazzo Lombardia, in Piazza Città di Lombardia n. 1, Milano).</td></tr><tr><td>Prodotti ed eventuali tempistiche</td><td>- Continuità del servizio erogato all&#x27;utenza secondo quanto indicato nel paragrafo &#x27; Oggetto e descrizione del servizio &#x27;; - verifica e aggiornamento del catalogo SBN/OPAC; - eventuale s carto del materiale ritenuto &#x27;superato&#x27; ; - proposte per nuovi acquisti in linea con la natura del patrimonio bibliografico conservato in Biblioteca e per l&#x27;a ggiornamento della pagina web relativa ai &#x27;Suggerimenti della preparazione di concorsi per bibliotecario&#x27; ( link); - produzione di una relazione sul lavoro svolto, con indicazione delle criticità riscontrate e delle potenziali aree di miglioramento, da inviare al dirigente responsabile della Biblioteca Tremaglia tramite PEC entro i 15 giorni successivi alla scadenza di ciascun trimestre. -</td></tr><tr><td>Durata del contratto</td><td>Dalla sottoscrizione del Foglio Patti e Condizioni fino al 31/12/2027.</td></tr><tr><td>Importo massimo del servizio/fornitura e criteri con i quali è stato calcolato</td><td>L&#x27;importo massimo stimato per il servizio è di 111.476 € IVA esclusa. Il costo della manodopera stimato per il servizio è di 100.328,40 €, pari al 90% dell&#x27;importo complessivo, calcolato sulla base della Tabella aggiornata (ottobre 2024) dal MINISTERO DEL LAVORO E DELLE POLITICHE SOCIALI - Direzione Generale dei Rapporti di Lavoro e delle Relazioni Industriali - Div. III - COSTO DEL LAVORO PER LE LAVORATRICI E I LAVORATORI DELLE COOPERATIVE DEL SETTORE SOCIO- SANITARIO ASSISTENZIALE-EDUCATIVO E DI INSERIMENTO LAVORATIVO Gli oneri per la sicurezza da interferenza sono pari a zero.</td></tr><tr><td>Modalità erogazione dei compensi</td><td>Il pagamento verrà effettuato trimestralmente dietro presentazione di SAL e successiva fattura, sulla base di una relazione/rendicontazione attestante le attività realizzate e previa verifica da parte del DEC della regolare esecuzione del servizio.</td></tr><tr><td>Contenuti proposta</td><td>- Presentazione delle idonee esperienze pregresse maturate dal l&#x27;operatore economico , comprese quelle relative all&#x27;utilizzo dei software di gestione della catalogazione SBN; - breve descrizione degli aspetti qualitativi del servizio offerto, nonché del personale richiesto e dei relativi titoli (max 10 cartelle, non allegare CV); - prezzo offerto.</td></tr></tbody></table>\n",
       "<p>Privacy: specificare se il fornitore dovrà trattare per conto di Regione dati personali/sensibili</p>\n",
       "<ul>\n",
       "<li>Il Fornitore non dovrà trattare per conto di Regione Lombardia dati personali/sensibili.</li>\n",
       "</ul>\n",
       "<p>4</p>\n",
       "<h2>Modalità di partecipazione all'indagine di mercato</h2>\n",
       "<p>La presente indagine di mercato è pubblicata sia sulla piattaforma telematica Sintel di Regione Lombardia disponibile al sito www.ariaspa.it. sia sul profilo del Committente. È possibile partecipare esclusivamente tramite la piattaforma Sintel. Per le informazioni di tipo tecnico, si faccia riferimento al documento allegato ' Modalità tecniche per l'utilizzo della piattaforma Sintel ' ed esclusivamente al numero verde del gestore della Piattaforma SINTEL presso ARIA 800.116.738.</p>\n",
       "<ul>\n",
       "<li>Le Imprese che intendono partecipare alla presente indagine di mercato dovranno inserire nella piattaforma SINTEL la documentazione richiesta compilata e firmata digitalmente.</li>\n",
       "</ul>\n",
       "<h2>ENTRO IL TERMINE PERENTORIO DELLE ORE 12.00 DEL GIORNO ……….……….. 02 LUGLIO 2025</h2>\n",
       "<p>Al  primo  step del  percorso  guidato  'Invia  offerta',  negli  appositi  campi  presenti  sulla  Piattaforma  Sintel,  il Concorrente, dovrà allegare la documentazione richiesta compilata e firmata digitalmente . I campi presenti saranno i seguenti:</p>\n",
       "<ul>\n",
       "<li>-'Autocertificazione' secondo il modello allegato al presente documento, compilata e firmata digitalmenteIl concorrente presenta inoltre il DGUE.</li>\n",
       "</ul>\n",
       "<p>Il concorrente presenta inoltre il DGUE. Gli Operatori Economici potranno generare la DGUE Response in formato xml a partire dalla Request messa a disposizione in documentazione di gara. Per farlo è possibile utilizzare il medesimo servizio messo a disposizione dal sito di Aria S.p.A portale https://www.ariaspa.it nella sezione dedicata alla piattaforma Sintel e, all'interno di essa, nella sezione 'Procedure'.</p>\n",
       "<p>Gli operatori economici dovranno caricare il file xml DGUE Response in SINTEL.</p>\n",
       "<p>Nota: per le modalità di utilizzo di dettaglio si rimanda alle indicazioni operative e ai manuali presenti sul portale Aria S.p.A</p>\n",
       "<ul>\n",
       "<li>-'Tracciabilità dei flussi finanziari' compilata e firmata digitalmente</li>\n",
       "<li>-'Patto di integrità' firmato digitalmente</li>\n",
       "<li>-'Preventivo' firmato digitalmente consistente in:</li>\n",
       "<li>· Presentazione delle idonee esperienze pregresse maturate dall'operatore economico nel settore oggetto di affidamento;</li>\n",
       "<li>· Breve descrizione aspetti qualitativi del servizio offerto ed eventualmente del team di lavoro proposto;</li>\n",
       "</ul>\n",
       "<h2>La bozza del foglio patti e condizioni non dovrà essere né compilata né firmata né allegata</h2>\n",
       "<p>Al secondo step del percorso guidato 'Invia offerta', nell'apposito campo ' Offerta economica ' il concorrente dovrà inserire  a  video  l'importo  del  proprio  preventivo  (al  netto  di  IVA  ed  oneri)  rispetto  all'importo  massimo  di  € 111.476,00…….. (al netto di IVA ed oneri).</p>\n",
       "<p>Si evidenzia che il preventivo presentato non vincola in alcun modo la Stazione Appaltante che si riserva la facoltà di non procedere all'affidamento.</p>\n",
       "<p>Al termine del percorso guidato 'INVIA OFFERTA', Sintel genererà un documento in formato '.pdf' che dovrà essere scaricato dal fornitore sul proprio terminale e quindi, sottoscritto digitalmente .</p>\n",
       "<p>ha formattato: Non Evidenziato</p>\n",
       "<h2>Richieste di chiarimenti</h2>\n",
       "<p>Eventuali richieste di chiarimenti dovranno pervenire entro e non oltre il …………………… 25/06/2025 esclusivamente attraverso la piattaforma Sintel alla funzionalità ' Comunicazioni della procedura '  su cui verranno pubblicate  le relative risposte.</p>\n",
       "<h2>INFORMATIVA SULLA PRIVACY</h2>\n",
       "<p>Titolare trattamento dati: Regione Lombardia nella persona del suo  legale rappresentante con sede in  P.zza Città di Lombardia, n. 1 - 20124  MILANO.</p>\n",
       "<p>I dati richiesti sono utilizzati esclusivamente a fini concorsuali e contrattuali.</p>\n",
       "<p>Si informa, inoltre, che l'interessato gode dei diritti di cui agli artt. Da 15 a 22 del reg. UE n. 679/2016, tra i quali figura il diritto di ottenere la conferma dell'esistenza o meno di dati personali che lo riguardano; l'aggiornamento, la rettificazione, l'integrazione dei dati; la cancellazione, la trasformazione in forma anonima dei dati trattati in violazione di legge nonché il diritto di opporsi per motivi legittimi al trattamento dei dati personali che lo riguardano, ancorché pertinenti allo scopo della raccolta e di opporsi al trattamento di dati personali a fini di invio di materiale pubblicitario o di vendita diretta etc.</p>\n",
       "</div>\n",
       "</body>\n",
       "</html>"
      ],
      "text/plain": [
       "<IPython.core.display.HTML object>"
      ]
     },
     "metadata": {},
     "output_type": "display_data"
    }
   ],
   "source": [
    "from IPython.core.display import  HTML\n",
    "display(HTML(html))"
   ]
  },
  {
   "cell_type": "code",
   "execution_count": 7,
   "id": "b11b6960",
   "metadata": {},
   "outputs": [],
   "source": [
    "service = assistant_extractor(html, provider=\"together\")"
   ]
  },
  {
   "cell_type": "code",
   "execution_count": 9,
   "id": "0e1c7c29",
   "metadata": {},
   "outputs": [
    {
     "name": "stdout",
     "output_type": "stream",
     "text": [
      "La descrizione del servizio è la seguente:\n",
      "\n",
      "Il servizio di manutenzione delle reti radio di Regione Lombardia comprende la manutenzione preventiva e correttiva per il mantenimento nelle migliori condizioni di efficienza delle reti radio regionali, tra cui:\n",
      "\n",
      "* La dorsale pluricanale regionale denominata \"Alta Frequenza\" (Anello nord e anello sud)\n",
      "* Le reti radio ISO frequenziali ed apparati ricetrasmittenti terminali del servizio antincendio boschivo e di protezione civile\n",
      "* I sistemi di comunicazione mobili installati sui CTM-R, CTM-P e Sala Operativa mobile (SOM), costituiti da ripetitori mobili DMR in configurazione master e satelliti, BST Tetra e connettività satellitare Tooway, Starlink e LTE 4G\n",
      "* Gli apparati terminali, portatili, veicolari e fissi in tecnologia DMR, TETRA e aeronautici\n",
      "* Il sistema di trouble ticketing\n",
      "* La gestione dei servizi aggiuntivi (setup sistemi radio \"nomadici\", Drive test, Traslochi, Supporto in sede)\n",
      "\n",
      "Il servizio dovrà essere effettuato su tutti gli apparati radioelettrici, di irradiazione e su tutte le strutture (shelter, tralicci, recinzioni) che compongono il sistema radio di comunicazione della Direzione Generale Sicurezza e Protezione Civile in esercizio su tutto il territorio regionale, nonché sui relativi centri operativi. \n",
      "\n",
      "Il servizio di manutenzione e le modalità di svolgimento dello stesso sono descritte nel Capitolato tecnico. I prodotti attivi e passivi da manutenere e riferiti alle reti indicate sono rappresentati nell'allegato Capitolato tecnico. \n",
      "\n",
      "Il fornitore dovrà inoltre supportare e affiancare l'aggiudicatario della gara di cui alla determinazione n. 420 del 28/04/2023 (gara ARIA S.p.A.) per consentire la migrazione del servizio di manutenzione in essere. \n",
      "\n",
      "La durata del contratto è di 24 mesi, con possibilità di chiusura anticipata del contratto a seguito del collaudo positivo del servizio derivante dalla gara indetta da Aria S.p.a. di cui alla DGR n. XI/5724 del 15/12/2021 e alla determinazione n. 420 del 28/04/2023 di ARIA S.p.A. \n",
      "\n",
      "L'importo a base d'asta è di € 3.548.387,00 I.V.A. esclusa. \n",
      "\n",
      "I criteri di valutazione dell'offerta tecnica ed economica sono i seguenti:\n",
      "\n",
      "* Offerta tecnica: 70 punti\n",
      "* Offerta economica: 30 punti\n",
      "\n",
      "La valutazione dell'offerta economica sarà effettuata utilizzando la formula: p = (C min / C off) x 30, dove C min è il costo indicato dall'impresa che ha formulato l'offerta valida più bassa e C off è il costo indicato dall'impresa in esame. \n",
      "\n",
      "I parametri di valutazione dell'offerta tecnica sono i seguenti:\n",
      "\n",
      "* Redazione dell'offerta tecnica: 7 punti\n",
      "* Manutenzione preventiva: 23 punti\n",
      "* Manutenzione correttiva: 27 punti\n",
      "* Servizi migliorativi e/o aggiuntivi: 4 punti\n",
      "* Team di lavoro: 5 punti\n",
      "* Sicurezza lavoratori: 2 punti\n",
      "* Possesso Certificazione Parità di genere: 2 punti\n",
      "\n",
      "Il fornitore non dovrà trattare dati personali/sensibili.\n"
     ]
    }
   ],
   "source": [
    "print(service)"
   ]
  },
  {
   "cell_type": "code",
   "execution_count": null,
   "id": "79d4cd4b",
   "metadata": {},
   "outputs": [],
   "source": []
  }
 ],
 "metadata": {
  "kernelspec": {
   "display_name": "test-ai-engineer",
   "language": "python",
   "name": "python3"
  },
  "language_info": {
   "codemirror_mode": {
    "name": "ipython",
    "version": 3
   },
   "file_extension": ".py",
   "mimetype": "text/x-python",
   "name": "python",
   "nbconvert_exporter": "python",
   "pygments_lexer": "ipython3",
   "version": "3.11.11"
  }
 },
 "nbformat": 4,
 "nbformat_minor": 5
}
