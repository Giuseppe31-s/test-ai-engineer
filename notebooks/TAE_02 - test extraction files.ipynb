{
 "cells": [
  {
   "cell_type": "code",
   "execution_count": 1,
   "id": "cbc8af76",
   "metadata": {},
   "outputs": [],
   "source": [
    "import os\n",
    "\n",
    "os.chdir(\"..\")\n"
   ]
  },
  {
   "cell_type": "code",
   "execution_count": 1,
   "id": "3645968f",
   "metadata": {},
   "outputs": [
    {
     "name": "stderr",
     "output_type": "stream",
     "text": [
      "/home/giuseppe/projetos-pessoais/test-ai-engineer/.venv/lib/python3.11/site-packages/tqdm/auto.py:21: TqdmWarning: IProgress not found. Please update jupyter and ipywidgets. See https://ipywidgets.readthedocs.io/en/stable/user_install.html\n",
      "  from .autonotebook import tqdm as notebook_tqdm\n"
     ]
    }
   ],
   "source": [
    "from docling.datamodel.accelerator_options import AcceleratorDevice, AcceleratorOptions\n",
    "from docling.datamodel.base_models import InputFormat\n",
    "from docling.datamodel.pipeline_options import (\n",
    "    PdfPipelineOptions,\n",
    ")\n",
    "from docling.document_converter import DocumentConverter, PdfFormatOption"
   ]
  },
  {
   "cell_type": "code",
   "execution_count": 3,
   "id": "971fcd8a",
   "metadata": {},
   "outputs": [],
   "source": [
    "from docling.datamodel.base_models import InputFormat\n",
    "from docling.datamodel.pipeline_options import (\n",
    "    PdfPipelineOptions,\n",
    "    TesseractCliOcrOptions,\n",
    ")\n",
    "from docling.document_converter import DocumentConverter, PdfFormatOption"
   ]
  },
  {
   "cell_type": "code",
   "execution_count": 4,
   "id": "b57ccfd1",
   "metadata": {},
   "outputs": [],
   "source": [
    "import pandas as pd"
   ]
  },
  {
   "cell_type": "code",
   "execution_count": 5,
   "id": "44838f8c",
   "metadata": {},
   "outputs": [
    {
     "data": {
      "text/plain": [
       "True"
      ]
     },
     "execution_count": 5,
     "metadata": {},
     "output_type": "execute_result"
    }
   ],
   "source": [
    "from src.data.preprocess import (\n",
    "    extract_technic_specification,\n",
    "    extract_html_from_pdf,\n",
    "    tables_from_html,\n",
    "    get_description_from_df,\n",
    ")\n",
    "import json\n",
    "from dotenv import load_dotenv\n",
    "\n",
    "load_dotenv(override=True)"
   ]
  },
  {
   "cell_type": "code",
   "execution_count": 6,
   "id": "6278cc8e",
   "metadata": {},
   "outputs": [],
   "source": [
    "# from IPython.core.display import  HTML\n",
    "# display(HTML(html))"
   ]
  },
  {
   "cell_type": "code",
   "execution_count": null,
   "id": "c327abb8",
   "metadata": {},
   "outputs": [
    {
     "name": "stdout",
     "output_type": "stream",
     "text": [
      "Processing Scheda tecnica gara Gestione Tremaglia.pdf...\n",
      "Extracted information for Scheda tecnica gara Gestione Tremaglia.pdf...\n",
      "Processing Scheda_Tecnica_FEC21_PIF_BassaPianura.pdf...\n",
      "Extracted information for Scheda_Tecnica_FEC21_PIF_BassaPianura.pdf...\n",
      "Processing GECA 4_2025_Scheda Tecnica.pdf...\n",
      "Extracted information for GECA 4_2025_Scheda Tecnica.pdf...\n",
      "Processing FEC 2-2025 Scheda tecnica.pdf...\n",
      "Extracted information for FEC 2-2025 Scheda tecnica.pdf...\n",
      "Processing scheda tecnica.pdf...\n",
      "Extracted information for scheda tecnica.pdf...\n"
     ]
    }
   ],
   "source": []
  },
  {
   "cell_type": "code",
   "execution_count": null,
   "id": "927f5550",
   "metadata": {},
   "outputs": [],
   "source": [
    "import io\n",
    "\n",
    "# Read PDF from disk and load into BytesIO\n",
    "with open(\n",
    "    \"/home/giuseppe/projetos-pessoais/test-ai-engineer/data/silver/FEC 2-2025 Scheda tecnica.pdf\",\n",
    "    \"rb\",\n",
    ") as f:\n",
    "    pdf_bytes = io.BytesIO(f.read())\n",
    "\n",
    "# Now pdf_bytes is a BytesIO object containing the PDF\n",
    "from docling.document_converter import DocumentConverter\n",
    "\n",
    "\n",
    "\n",
    "converter = DocumentConverter()\n",
    "\n",
    "document = converter.convert({\"name\": \"FEC 2-2025 Scheda tecnica.pdf\", \"stream\": pdf_bytes})"
   ]
  },
  {
   "cell_type": "code",
   "execution_count": null,
   "id": "a1d3de4a",
   "metadata": {},
   "outputs": [
    {
     "data": {
      "text/html": [
       "<div>\n",
       "<style scoped>\n",
       "    .dataframe tbody tr th:only-of-type {\n",
       "        vertical-align: middle;\n",
       "    }\n",
       "\n",
       "    .dataframe tbody tr th {\n",
       "        vertical-align: top;\n",
       "    }\n",
       "\n",
       "    .dataframe thead th {\n",
       "        text-align: right;\n",
       "    }\n",
       "</style>\n",
       "<table border=\"1\" class=\"dataframe\">\n",
       "  <thead>\n",
       "    <tr style=\"text-align: right;\">\n",
       "      <th></th>\n",
       "      <th>tipologia di servizio</th>\n",
       "      <th>oggetto del servizio</th>\n",
       "      <th>descrizione del servizio</th>\n",
       "      <th></th>\n",
       "      <th>durata del contratto</th>\n",
       "      <th>base d'asta</th>\n",
       "    </tr>\n",
       "  </thead>\n",
       "  <tbody>\n",
       "    <tr>\n",
       "      <th>1</th>\n",
       "      <td>Acquisizione del servizio di Assistenza Tecnic...</td>\n",
       "      <td>Il Servizio è finalizzato a garantire il servi...</td>\n",
       "      <td>Il servizio di assistenza tecnica che l'Ammini...</td>\n",
       "      <td>lavoro sarà valutata e autorizzata formalmente...</td>\n",
       "      <td>Il contratto ha durata dalla data di sottoscri...</td>\n",
       "      <td>La base d'asta è pari a € 559.409,86 IVA esclusa.</td>\n",
       "    </tr>\n",
       "  </tbody>\n",
       "</table>\n",
       "</div>"
      ],
      "text/plain": [
       "0                              tipologia di servizio  \\\n",
       "1  Acquisizione del servizio di Assistenza Tecnic...   \n",
       "\n",
       "0                               oggetto del servizio  \\\n",
       "1  Il Servizio è finalizzato a garantire il servi...   \n",
       "\n",
       "0                           descrizione del servizio  \\\n",
       "1  Il servizio di assistenza tecnica che l'Ammini...   \n",
       "\n",
       "0                                                     \\\n",
       "1  lavoro sarà valutata e autorizzata formalmente...   \n",
       "\n",
       "0                               durata del contratto  \\\n",
       "1  Il contratto ha durata dalla data di sottoscri...   \n",
       "\n",
       "0                                        base d'asta  \n",
       "1  La base d'asta è pari a € 559.409,86 IVA esclusa.  "
      ]
     },
     "execution_count": 10,
     "metadata": {},
     "output_type": "execute_result"
    }
   ],
   "source": [
    "df_technic_specification"
   ]
  },
  {
   "cell_type": "code",
   "execution_count": null,
   "id": "a6bc2832",
   "metadata": {},
   "outputs": [
    {
     "data": {
      "text/plain": [
       "Index(['tipologia di servizio', 'oggetto del servizio',\n",
       "       'descrizione del servizio'],\n",
       "      dtype='object', name=0)"
      ]
     },
     "execution_count": 11,
     "metadata": {},
     "output_type": "execute_result"
    }
   ],
   "source": [
    "df_technic_specification.columns[df_technic_specification.columns.str.contains(\"servizio\")]"
   ]
  },
  {
   "cell_type": "code",
   "execution_count": null,
   "id": "d20ec3b0",
   "metadata": {},
   "outputs": [
    {
     "data": {
      "text/plain": [
       "\"Il Servizio è finalizzato a garantire il servizio di Assistenza tecnica all'Autorità di Gestione POC per le attività di supporto all'attuazione e la gestione (monitoraggio e sorveglianza) del Programma che ha l'obiettivo di garantire il completamento di interventi avviati nel ciclo 2014-2020 a valere sui POR FESR, FSE e Interregionale IT-CH. Il POC, così come è stato adottato con DGR n. 3064-2024 del 23.09.2024, evidenzia la necessità per Regione Lombardia di acquisire il servizio di Assistenza Tecnica. L'incarico di 'Assistenza Tecnica' fa riferimento all'insieme di attività indicate di segui to, le quali hanno l'obiettivo generale di sostenere le fasi di attuazione del Programma, dotando l'Amministrazione Regionale di strumenti operativi e supporti che consentano il raggiungimento di elevati livelli di efficacia, di efficienza e di economicità nell'utilizzo delle risorse del Programma.\""
      ]
     },
     "execution_count": 13,
     "metadata": {},
     "output_type": "execute_result"
    }
   ],
   "source": [
    "df_technic_specification[\n",
    "    df_technic_specification.columns[\n",
    "        df_technic_specification.columns.str.contains(\"servizio\")\n",
    "    ]\n",
    "].iloc[0,1]"
   ]
  },
  {
   "cell_type": "code",
   "execution_count": null,
   "id": "02cfd699",
   "metadata": {},
   "outputs": [
    {
     "data": {
      "text/plain": [
       "\"Acquisizione del servizio di Assistenza Tecnica e supporto specialistico all'Autorità di Gestione per l'attuazione e la gestione del Programma Operativo Complementare 2014 - 2020 di Regione Lombardia (di seguito POC).\\nIl Servizio è finalizzato a garantire il servizio di Assistenza tecnica all'Autorità di Gestione POC per le attività di supporto all'attuazione e la gestione (monitoraggio e sorveglianza) del Programma che ha l'obiettivo di garantire il completamento di interventi avviati nel ciclo 2014-2020 a valere sui POR FESR, FSE e Interregionale IT-CH. Il POC, così come è stato adottato con DGR n. 3064-2024 del 23.09.2024, evidenzia la necessità per Regione Lombardia di acquisire il servizio di Assistenza Tecnica. L'incarico di 'Assistenza Tecnica' fa riferimento all'insieme di attività indicate di segui to, le quali hanno l'obiettivo generale di sostenere le fasi di attuazione del Programma, dotando l'Amministrazione Regionale di strumenti operativi e supporti che consentano il raggiungimento di elevati livelli di efficacia, di efficienza e di economicità nell'utilizzo delle risorse del Programma.\\nIl servizio di assistenza tecnica che l'Amministrazione Regionale intende affidare è articolato in aree di attività sviluppate come di seguito indicato: 1. supporto tecnico per l'attuazione delle azioni previste dal POC, fornendo i necessari elementi di conoscenza e/o approfondimento tecnico, giuridico ed amministrativo e per la predisposizione degli strumenti per l'attuazione degli interventi (es. manualistica di gestione e di rendicontazione delle spese, atti convenzionali da sottoscrivere con i soggetti beneficiari, ecc.); 2. supporto tecnico per la formulazione di proposte di riprogrammazione del POC a seguito di costante e attenta sorveglianza dell'andamento del POC stesso; 3. supporto tecnico per le eventuali revisioni o aggiornamenti del Sistema di gestione e controllo adottato dall'Autorità Responsabile, compreso il supporto tecnico per l'eventuale aggiornamento della metodologia e delle procedure per il campionamento degli interventi da sottoporre ai controlli di primo livello in loco, nonché per l'esecuzione e la verbalizzazione dei controlli stessi; 4. supporto tecnico per la definizione delle specifiche tecniche per il completamento della costruzione dei Moduli del sistema informativo regionale BeS, in coerenza con quanto previsto dalle procedure definite dal MEF-IGRUE per il monitoraggio dei dati relativi agli interventi del POC. Si precisa che il sistema informatico è gestito direttamente da ARIA S.p.A.; 5. supporto tecnico per la verifica e l'invio dei dati da trasmettere all'IGRUE ai fini dell'alimentazione della Banca Dati Unitaria; 6. supporto tecnico per la definizione e la trasmissione agli uffici competenti dello Stato , delle richieste di rimborso comprendenti l'importo totale delle spese ammesse relative all'attuazione delle operazioni, suddivise per Assi e per Linee di Azione; 7. supporto tecnico nella predisposizione della relazione di attuazione del Programma, aggiornata al aggiornata al 31 dicembre dell'anno precedente, per la trasmissione al Dipartimento per le politiche di coesione, con il dettaglio in merito alla situazione degli impegni e dei pagamenti, a partire dai dati di avanzamento inseriti nel Sistema unico di monitoraggio della Ragioneria generale dello Stato (RGS)-IGRUE e pubblicati su Open coesione. Tale Relazione di attuazione del Programma sarà\""
      ]
     },
     "execution_count": 23,
     "metadata": {},
     "output_type": "execute_result"
    }
   ],
   "source": [
    "joined_description"
   ]
  },
  {
   "cell_type": "code",
   "execution_count": null,
   "id": "75c6eb94",
   "metadata": {},
   "outputs": [],
   "source": []
  }
 ],
 "metadata": {
  "kernelspec": {
   "display_name": "test-ai-engineer",
   "language": "python",
   "name": "python3"
  },
  "language_info": {
   "codemirror_mode": {
    "name": "ipython",
    "version": 3
   },
   "file_extension": ".py",
   "mimetype": "text/x-python",
   "name": "python",
   "nbconvert_exporter": "python",
   "pygments_lexer": "ipython3",
   "version": "3.11.11"
  }
 },
 "nbformat": 4,
 "nbformat_minor": 5
}
