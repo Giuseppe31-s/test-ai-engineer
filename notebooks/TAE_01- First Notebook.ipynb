{
 "cells": [
  {
   "cell_type": "code",
   "execution_count": 1,
   "id": "112a9e0e",
   "metadata": {},
   "outputs": [
    {
     "name": "stderr",
     "output_type": "stream",
     "text": [
      "/home/giuseppe/projetos-pessoais/test-ai-engineer/.venv/lib/python3.11/site-packages/tqdm/auto.py:21: TqdmWarning: IProgress not found. Please update jupyter and ipywidgets. See https://ipywidgets.readthedocs.io/en/stable/user_install.html\n",
      "  from .autonotebook import tqdm as notebook_tqdm\n"
     ]
    }
   ],
   "source": [
    "from fastembed.sparse.bm25 import Bm25\n",
    "from fastembed import TextEmbedding\n",
    "import pandas as pd\n",
    "from docling.document_converter import DocumentConverter\n",
    "from io import StringIO"
   ]
  },
  {
   "cell_type": "code",
   "execution_count": 2,
   "id": "95838e5b",
   "metadata": {},
   "outputs": [],
   "source": [
    "converter = DocumentConverter()\n"
   ]
  },
  {
   "cell_type": "code",
   "execution_count": 3,
   "id": "cc06a471",
   "metadata": {},
   "outputs": [],
   "source": [
    "source = \"../data/silver/FEC 2-2025 Scheda tecnica.pdf\""
   ]
  },
  {
   "cell_type": "code",
   "execution_count": 4,
   "id": "13687507",
   "metadata": {},
   "outputs": [],
   "source": [
    "doc = converter.convert(source).document\n"
   ]
  },
  {
   "cell_type": "code",
   "execution_count": 5,
   "id": "d28f0112",
   "metadata": {},
   "outputs": [],
   "source": [
    "# from IPython.core.display import  HTML\n",
    "# display(HTML(doc.export_to_html()))"
   ]
  },
  {
   "cell_type": "code",
   "execution_count": 6,
   "id": "7c73892d",
   "metadata": {},
   "outputs": [],
   "source": [
    "test = pd.read_html(StringIO(doc.export_to_html()))"
   ]
  },
  {
   "cell_type": "code",
   "execution_count": 12,
   "id": "6fe70a42",
   "metadata": {},
   "outputs": [],
   "source": [
    "df_technic_specification = pd.DataFrame()\n",
    "for table in test:\n",
    "    df_technic_specification = pd.concat([df_technic_specification, table], ignore_index=True)\n"
   ]
  },
  {
   "cell_type": "code",
   "execution_count": 21,
   "id": "5285c569",
   "metadata": {},
   "outputs": [],
   "source": [
    "df_technic_specification = df_technic_specification.T"
   ]
  },
  {
   "cell_type": "code",
   "execution_count": 22,
   "id": "ad07260d",
   "metadata": {},
   "outputs": [],
   "source": [
    "df_technic_specification.columns = df_technic_specification.iloc[0]\n",
    "df_technic_specification = df_technic_specification[1:]"
   ]
  },
  {
   "cell_type": "code",
   "execution_count": 30,
   "id": "eb5088e2",
   "metadata": {},
   "outputs": [
    {
     "data": {
      "text/plain": [
       "\"Servizio di hosting, assistenza tecnica e manutenzione ordinaria, help desk e manutenzione evolutiva della piattaforma tecnologica Caronte. La stessa è stata sviluppata per la tenuta e la gestione del Registro Ufficiale degli Operatori Professionali (RUOP), di cui al Regolamento (UE) 2016/2031 e al D.lgs. 19/2021. Rappresenta lo strumento obbligatorio sia per gli operatori professionali che chiedono la registrazione al RUOP per lo svolgimento delle attività di vivaista, di commercio all'ingrosso, di importazione e di esportazione di vegetali, prodotti vegetali e altri oggetti, di autorizzazione all'uso del passaporto delle piante, di richiesta di emissione dei certificati fitosanitari per l'esportazione verso i Paesi terzi e sia per gli ispettori fitosanitari del Servizio fitosanitario regionale per la gestione dei controlli ufficiali obbligatori presso gli operatori professionali che svolgono l 'attività di vivaisti, il rilascio dei certificati fitosanitari di esportazione, l'adozione di misure ufficiali e l'irrogazione delle sanzioni amministrative. L'applicativo consente inoltre lo scarico dei tracciati record delle attività svolte per l'invio dei dati al Servizio fitosanitario centrale presso il MASAF. La gara riguarda la gestione dei servizi di hosting, di assistenza tecnica, di manutenzione ordinaria e del servizio di help desk; comprende inoltre un'attività di manutenzione evolutiva per adeguare i tracciati record da inviare al Servizio fitosanitario centrale presso il MASAF, sulla base delle nuove disposizioni stabilite dallo stesso Servizio e per migliorare e implementare alcune funzionalità dell'applicativo Caronte.\""
      ]
     },
     "execution_count": 30,
     "metadata": {},
     "output_type": "execute_result"
    }
   ],
   "source": [
    "df_technic_specification[\"Oggetto e descrizione del servizio\"].values[0]"
   ]
  },
  {
   "cell_type": "code",
   "execution_count": 34,
   "id": "1767dfc3",
   "metadata": {},
   "outputs": [],
   "source": [
    "df_technic_specification.columns = df_technic_specification.columns.str.lower()"
   ]
  },
  {
   "cell_type": "code",
   "execution_count": null,
   "id": "31687b5f",
   "metadata": {},
   "outputs": [],
   "source": []
  }
 ],
 "metadata": {
  "kernelspec": {
   "display_name": ".venv",
   "language": "python",
   "name": "python3"
  },
  "language_info": {
   "codemirror_mode": {
    "name": "ipython",
    "version": 3
   },
   "file_extension": ".py",
   "mimetype": "text/x-python",
   "name": "python",
   "nbconvert_exporter": "python",
   "pygments_lexer": "ipython3",
   "version": "3.11.11"
  }
 },
 "nbformat": 4,
 "nbformat_minor": 5
}
